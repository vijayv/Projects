{
 "metadata": {
  "name": "",
  "signature": "sha256:4623906c2a7f4ed9b407f11cc5b457ec7138882f6e046f69ca1284ede0d05f92"
 },
 "nbformat": 3,
 "nbformat_minor": 0,
 "worksheets": [
  {
   "cells": [
    {
     "cell_type": "markdown",
     "metadata": {},
     "source": [
      "## Imagine you landed a new job as a cashier...\n",
      "\n",
      "Your quirky boss found out that you're a programmer and has a weird request about something they've been wondering for a long time.\n",
      "\n",
      "Write a function that, given:\n",
      "\n",
      "    1) an amount of money\n",
      "    2) a list of coin denominations\n",
      "\n",
      "computes the number of ways to make amount of money with coins of the available denominations.\n",
      "\n",
      "Example: for amount=4 (4\u00a2) and denominations=[1,2,3] (1\u00a2, 2\u00a2 and 3\u00a2), your program would output 4\u2014the number of ways to make 4\u00a2 with those denominations:\n",
      "\n",
      "    1\u00a2, 1\u00a2, 1\u00a2, 1\u00a2\n",
      "    1\u00a2, 1\u00a2, 2\u00a2\n",
      "    1\u00a2, 3\u00a2\n",
      "    2\u00a2, 2\u00a2\n",
      "\n"
     ]
    },
    {
     "cell_type": "code",
     "collapsed": false,
     "input": [
      "amount = 4\n",
      "denominations = [1,2,3]"
     ],
     "language": "python",
     "metadata": {},
     "outputs": [],
     "prompt_number": 1
    },
    {
     "cell_type": "code",
     "collapsed": false,
     "input": [
      "def currency_combinations(amt, denominations):\n",
      "    total_combinations = 0\n",
      "    for idx, each_denomination in enumerate(denominations):\n",
      "        max_use = (amt // each_denomination)\n",
      "        remaining_denominations = denominations[:idx] + denominations[idx+1:]\n",
      "        \n",
      "        for combination in range(1, max_use+1):\n",
      "            print \"%s * %s = %s\" % (each_denomination, combination, each_denomination * combination)\n",
      "            total_combinations += 1\n",
      "            remainder = max(0, amt - (each_denomination * combination))\n",
      "            print \"remainder:\", remainder\n",
      "            if remainder > 0:\n",
      "                print \"*** Entering Recursion ***\"\n",
      "                total_combinations += currency_combinations(remainder, remaining_denominations)\n",
      "    return total_combinations\n",
      "     \n",
      "currency_combinations(amount, denominations)"
     ],
     "language": "python",
     "metadata": {},
     "outputs": [
      {
       "output_type": "stream",
       "stream": "stdout",
       "text": [
        "1 * 1 = 1\n",
        "remainder: 3\n",
        "*** Entering Recursion ***\n",
        "2 * 1 = 2\n",
        "remainder: 1\n",
        "*** Entering Recursion ***\n",
        "3 * 1 = 3\n",
        "remainder: 0\n",
        "1 * 2 = 2\n",
        "remainder: 2\n",
        "*** Entering Recursion ***\n",
        "2 * 1 = 2\n",
        "remainder: 0\n",
        "1 * 3 = 3\n",
        "remainder: 1\n",
        "*** Entering Recursion ***\n",
        "1 * 4 = 4\n",
        "remainder: 0\n",
        "2 * 1 = 2\n",
        "remainder: 2\n",
        "*** Entering Recursion ***\n",
        "1 * 1 = 1\n",
        "remainder: 1\n",
        "*** Entering Recursion ***\n",
        "1 * 2 = 2\n",
        "remainder: 0\n",
        "2 * 2 = 4\n",
        "remainder: 0\n",
        "3 * 1 = 3\n",
        "remainder: 1\n",
        "*** Entering Recursion ***\n",
        "1 * 1 = 1\n",
        "remainder: 0\n"
       ]
      },
      {
       "metadata": {},
       "output_type": "pyout",
       "prompt_number": 21,
       "text": [
        "13"
       ]
      }
     ],
     "prompt_number": 21
    },
    {
     "cell_type": "code",
     "collapsed": false,
     "input": [],
     "language": "python",
     "metadata": {},
     "outputs": []
    }
   ],
   "metadata": {}
  }
 ]
}