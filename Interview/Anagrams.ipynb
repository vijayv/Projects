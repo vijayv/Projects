{
 "metadata": {
  "name": "",
  "signature": "sha256:82cb73fb02fe77d67001e0cd5a211f0039a8f7eec42227858897348417bdd145"
 },
 "nbformat": 3,
 "nbformat_minor": 0,
 "worksheets": [
  {
   "cells": [
    {
     "cell_type": "markdown",
     "metadata": {},
     "source": [
      "Writing a function that takes a list of words as input, and returns a list of those words bucketized by anagrams"
     ]
    },
    {
     "cell_type": "code",
     "collapsed": false,
     "input": [
      "from string import lower"
     ],
     "language": "python",
     "metadata": {},
     "outputs": [],
     "prompt_number": 32
    },
    {
     "cell_type": "code",
     "collapsed": false,
     "input": [
      "word_list = [\"and\", \"rand\", \"bland\", \"kran\", \"rank\", \"dan\", \"Nad\", \"xxx\"]\n",
      "d = {}\n",
      "for word in word_list:\n",
      "    dkey = \"\".join(sorted(lower(word)))\n",
      "    \n",
      "    if dkey in d.keys():\n",
      "        d[dkey].append(word)\n",
      "    else:\n",
      "        d[dkey] = [word]\n",
      "\n",
      "print d.values()"
     ],
     "language": "python",
     "metadata": {},
     "outputs": [
      {
       "output_type": "stream",
       "stream": "stdout",
       "text": [
        "[['and', 'dan', 'Nad'], ['bland'], ['xxx'], ['kran', 'rank'], ['rand']]\n"
       ]
      }
     ],
     "prompt_number": 33
    },
    {
     "cell_type": "code",
     "collapsed": false,
     "input": [],
     "language": "python",
     "metadata": {},
     "outputs": []
    }
   ],
   "metadata": {}
  }
 ]
}