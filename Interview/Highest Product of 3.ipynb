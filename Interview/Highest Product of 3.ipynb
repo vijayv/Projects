{
 "metadata": {
  "name": "",
  "signature": "sha256:47b3b3e35140d3a52559756c01b32194d6f0b5ea03c01a1698266e4c05bd093a"
 },
 "nbformat": 3,
 "nbformat_minor": 0,
 "worksheets": [
  {
   "cells": [
    {
     "cell_type": "markdown",
     "metadata": {},
     "source": [
      "## Given an array_of_ints, find the highest_product you can get from three of the integers.\n",
      "The input array_of_ints will always have at least three integers."
     ]
    },
    {
     "cell_type": "code",
     "collapsed": false,
     "input": [
      "def product(p_array):\n",
      "    return reduce(lambda x, y: x * y, p_array, 1)\n",
      "\n",
      "def highest_product(p_array, num_digits):\n",
      "    sorted_digits = sorted(p_array)\n",
      "    \n",
      "    # In case we have negative numbers handle these correctly\n",
      "    # set1 is 2nd and 3rd largest numbers\n",
      "    digits_to_check = 2 * (num_digits // 2)\n",
      "    set1 = product(sorted_digits[-num_digits:][:digits_to_check])\n",
      "    # set2 is 2 smallest numbers\n",
      "    # in case they are both negative, they may produce a larger positive number\n",
      "    set2 = product(sorted_digits[:digits_to_check])\n",
      "    \n",
      "    return product([max(set1, set2), sorted_digits[-1:][0]])"
     ],
     "language": "python",
     "metadata": {},
     "outputs": [],
     "prompt_number": 111
    },
    {
     "cell_type": "code",
     "collapsed": false,
     "input": [
      "array_of_ints = [22,12,0,23,1,3]\n",
      "highest_product(array_of_ints, 3)"
     ],
     "language": "python",
     "metadata": {},
     "outputs": [
      {
       "metadata": {},
       "output_type": "pyout",
       "prompt_number": 112,
       "text": [
        "6072"
       ]
      }
     ],
     "prompt_number": 112
    },
    {
     "cell_type": "code",
     "collapsed": false,
     "input": [
      "# with Two Negative Numbers\n",
      "array_of_ints = [-10, 1, -22, 2]\n",
      "highest_product(array_of_ints, 3)"
     ],
     "language": "python",
     "metadata": {},
     "outputs": [
      {
       "metadata": {},
       "output_type": "pyout",
       "prompt_number": 113,
       "text": [
        "440"
       ]
      }
     ],
     "prompt_number": 113
    },
    {
     "cell_type": "code",
     "collapsed": false,
     "input": [
      "# with One Negative Numbers\n",
      "array_of_ints = [-10, 1, 3, 2]\n",
      "highest_product(array_of_ints, 3)"
     ],
     "language": "python",
     "metadata": {},
     "outputs": [
      {
       "metadata": {},
       "output_type": "pyout",
       "prompt_number": 114,
       "text": [
        "6"
       ]
      }
     ],
     "prompt_number": 114
    },
    {
     "cell_type": "code",
     "collapsed": false,
     "input": [
      "# with One Negative Numbers\n",
      "array_of_ints = [-10, 1, 3, 2, -20, -30, -40]\n",
      "highest_product(array_of_ints, 4)"
     ],
     "language": "python",
     "metadata": {},
     "outputs": [
      {
       "metadata": {},
       "output_type": "pyout",
       "prompt_number": 115,
       "text": [
        "720000"
       ]
      }
     ],
     "prompt_number": 115
    },
    {
     "cell_type": "code",
     "collapsed": false,
     "input": [],
     "language": "python",
     "metadata": {},
     "outputs": []
    }
   ],
   "metadata": {}
  }
 ]
}