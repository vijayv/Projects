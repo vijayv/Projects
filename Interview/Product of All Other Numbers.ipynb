{
 "metadata": {
  "name": "",
  "signature": "sha256:51d22146e5c7a480792c573c4a32756d224002fac827dcd753508437518d829b"
 },
 "nbformat": 3,
 "nbformat_minor": 0,
 "worksheets": [
  {
   "cells": [
    {
     "cell_type": "markdown",
     "metadata": {},
     "source": [
      "## You have an array of integers, and for each index you want to find the product of every integer except the integer at that index.\n",
      "Write a function get_products_of_all_ints_except_at_index() that takes an array of integers and returns an array of the products."
     ]
    },
    {
     "cell_type": "markdown",
     "metadata": {},
     "source": [
      "For example, given:\n",
      "  [1, 7, 3, 4]\n",
      "  \n",
      "your function would return:\n",
      "  [84, 12, 28, 21]\n",
      "  \n",
      "by calculating:\n",
      "  [7*3*4, 1*3*4, 1*7*4, 1*7*3]\n",
      "\n",
      "#### Do not use division in your solution."
     ]
    },
    {
     "cell_type": "markdown",
     "metadata": {},
     "source": [
      "## Below is the implementation in O(n^2)"
     ]
    },
    {
     "cell_type": "code",
     "collapsed": false,
     "input": [
      "def get_products_of_all_ints_except_at_index(p_array):\n",
      "    products = []\n",
      "    for idx in range(0, len(p_array)):\n",
      "        \n",
      "        multiply = range(0,len(p_array))\n",
      "        multiply.pop(idx)\n",
      "        \n",
      "        running_total = 1\n",
      "        for item in multiply:\n",
      "            running_total *= p_array[item]\n",
      "            \n",
      "        products.append(running_total)\n",
      "        \n",
      "    return products"
     ],
     "language": "python",
     "metadata": {},
     "outputs": [],
     "prompt_number": 62
    },
    {
     "cell_type": "code",
     "collapsed": false,
     "input": [
      "get_products_of_all_ints_except_at_index([1, 7, 3, 4])"
     ],
     "language": "python",
     "metadata": {},
     "outputs": [
      {
       "metadata": {},
       "output_type": "pyout",
       "prompt_number": 63,
       "text": [
        "[84, 12, 28, 21]"
       ]
      }
     ],
     "prompt_number": 63
    },
    {
     "cell_type": "code",
     "collapsed": false,
     "input": [
      "get_products_of_all_ints_except_at_index([1,3,4,2])"
     ],
     "language": "python",
     "metadata": {},
     "outputs": [
      {
       "metadata": {},
       "output_type": "pyout",
       "prompt_number": 64,
       "text": [
        "[24, 8, 6, 12]"
       ]
      }
     ],
     "prompt_number": 64
    },
    {
     "cell_type": "code",
     "collapsed": false,
     "input": [
      "get_products_of_all_ints_except_at_index([0, 0, 0, 0])"
     ],
     "language": "python",
     "metadata": {},
     "outputs": [
      {
       "metadata": {},
       "output_type": "pyout",
       "prompt_number": 65,
       "text": [
        "[0, 0, 0, 0]"
       ]
      }
     ],
     "prompt_number": 65
    },
    {
     "cell_type": "markdown",
     "metadata": {},
     "source": [
      "## Below is the implementation in O(n)"
     ]
    },
    {
     "cell_type": "code",
     "collapsed": false,
     "input": [
      "def get_products_of_all_ints_except_at_index_2(p_array):\n",
      "    products = []\n",
      "    for idx in range(0, len(p_array)):\n",
      "        \n",
      "        min_slice = idx\n",
      "        max_slice = idx + 1\n",
      "        \n",
      "        multiply = p_array[:min_slice] + p_array[max_slice:]\n",
      "        products.append(reduce(lambda x, y: x * y, multiply, 1))\n",
      "    return products\n",
      "        "
     ],
     "language": "python",
     "metadata": {},
     "outputs": [],
     "prompt_number": 68
    },
    {
     "cell_type": "code",
     "collapsed": false,
     "input": [
      "get_products_of_all_ints_except_at_index_2([1,3,4,2])"
     ],
     "language": "python",
     "metadata": {},
     "outputs": [
      {
       "metadata": {},
       "output_type": "pyout",
       "prompt_number": 69,
       "text": [
        "[24, 8, 6, 12]"
       ]
      }
     ],
     "prompt_number": 69
    },
    {
     "cell_type": "code",
     "collapsed": false,
     "input": [],
     "language": "python",
     "metadata": {},
     "outputs": []
    }
   ],
   "metadata": {}
  }
 ]
}