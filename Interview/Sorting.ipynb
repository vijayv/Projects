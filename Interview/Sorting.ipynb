{
 "metadata": {
  "name": "",
  "signature": "sha256:4eecbfd84dc24e1a5dc3ddecc0b485d3648cc3c510fbcbdb043b2a9e75fdb6af"
 },
 "nbformat": 3,
 "nbformat_minor": 0,
 "worksheets": [
  {
   "cells": [
    {
     "cell_type": "markdown",
     "metadata": {},
     "source": [
      "### Bubble Sort"
     ]
    },
    {
     "cell_type": "code",
     "collapsed": false,
     "input": [
      "import random"
     ],
     "language": "python",
     "metadata": {},
     "outputs": [],
     "prompt_number": 1
    },
    {
     "cell_type": "code",
     "collapsed": false,
     "input": [
      "num_list = random.sample(range(1, 100), 30)"
     ],
     "language": "python",
     "metadata": {},
     "outputs": [],
     "prompt_number": 3
    },
    {
     "cell_type": "code",
     "collapsed": false,
     "input": [
      "def bubble_sort(plist):\n",
      "    swapped = False\n",
      "    i = 0\n",
      "    while not swapped:\n",
      "        swapped = True\n",
      "        idx = i % len(plist)\n",
      "        print idx\n",
      "        if plist[idx] > plist[idx + 1]:\n",
      "            swap(plist,idx,idx + 1)\n",
      "            swapped = false\n",
      "            i += 1\n",
      "        \n",
      "def swap(plist,idx1,idx2):\n",
      "    temp = plist[idx2]\n",
      "    plist[idx2] = plist[idx1]\n",
      "    plist[idx1] = temp"
     ],
     "language": "python",
     "metadata": {},
     "outputs": [],
     "prompt_number": 16
    },
    {
     "cell_type": "code",
     "collapsed": false,
     "input": [
      "bubble_sort(num_list)"
     ],
     "language": "python",
     "metadata": {},
     "outputs": [
      {
       "output_type": "stream",
       "stream": "stdout",
       "text": [
        "0\n"
       ]
      }
     ],
     "prompt_number": 17
    },
    {
     "cell_type": "code",
     "collapsed": false,
     "input": [],
     "language": "python",
     "metadata": {},
     "outputs": []
    }
   ],
   "metadata": {}
  }
 ]
}