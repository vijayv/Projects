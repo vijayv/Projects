{
 "metadata": {
  "name": "",
  "signature": "sha256:106651274c814720c8b7e742a97bd8a995c4c38d72d00d3b4ec6fbf2dddfec8a"
 },
 "nbformat": 3,
 "nbformat_minor": 0,
 "worksheets": [
  {
   "cells": [
    {
     "cell_type": "markdown",
     "metadata": {},
     "source": [
      "I have an array stock_prices_yesterday where:\n",
      "\n",
      "The indices are the time, as a number of minutes past trade opening time, which was 9:30am local time.\n",
      "The values are the price of Apple stock at that time, in dollars.\n",
      "For example, the stock cost $500 at 10:30am, so stock_prices_yesterday[60] = 500.\n",
      "\n",
      "Write an efficient algorithm for computing the best profit I could have made from 1 purchase and 1 sale of 1 Apple stock yesterday. For this problem, we won't allow \"shorting\"\u2014you must buy before you sell."
     ]
    },
    {
     "cell_type": "code",
     "collapsed": false,
     "input": [
      "stock_prices_yesterday = [500, 495, 505, 507, 380, 290, 300, 700, 900, 280]  \n",
      "def get_best_profit(stock_prices_yesterday):\n",
      "    min_price = stock_prices_yesterday[0]\n",
      "    max_profit = 0\n",
      "    for current_price in stock_prices_yesterday:\n",
      "        min_price = min(min_price, current_price)\n",
      "        max_profit = max(max_profit, current_price - min_price)\n",
      "    return max_profit"
     ],
     "language": "python",
     "metadata": {},
     "outputs": [],
     "prompt_number": 3
    },
    {
     "cell_type": "code",
     "collapsed": false,
     "input": [
      "get_best_profit(stock_prices_yesterday)"
     ],
     "language": "python",
     "metadata": {},
     "outputs": [
      {
       "metadata": {},
       "output_type": "pyout",
       "prompt_number": 4,
       "text": [
        "610"
       ]
      }
     ],
     "prompt_number": 4
    },
    {
     "cell_type": "code",
     "collapsed": false,
     "input": [],
     "language": "python",
     "metadata": {},
     "outputs": []
    }
   ],
   "metadata": {}
  }
 ]
}