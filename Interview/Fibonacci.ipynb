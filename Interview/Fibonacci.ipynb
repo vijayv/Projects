{
 "metadata": {
  "name": "",
  "signature": "sha256:5a622683e1455796266ebadb6f67323417c260a14f1340c562a62ce1b1980527"
 },
 "nbformat": 3,
 "nbformat_minor": 0,
 "worksheets": [
  {
   "cells": [
    {
     "cell_type": "markdown",
     "metadata": {},
     "source": [
      "## Create a fibonacci number list"
     ]
    },
    {
     "cell_type": "code",
     "collapsed": false,
     "input": [
      "def fibonacci (n):\n",
      "    if n == 0:\n",
      "        return 0\n",
      "    elif n == 1:\n",
      "        return 1\n",
      "    else:\n",
      "        return fibonacci(n-1) + fibonacci(n-2)\n",
      "\n",
      "def fib_n_elements(n):\n",
      "    elements = []\n",
      "    for num in range(1,n+1):\n",
      "        elements.append(fibonacci(num))\n",
      "\n",
      "    return elements"
     ],
     "language": "python",
     "metadata": {},
     "outputs": [],
     "prompt_number": 45
    },
    {
     "cell_type": "code",
     "collapsed": false,
     "input": [
      "fib_n_elements(10)"
     ],
     "language": "python",
     "metadata": {},
     "outputs": [
      {
       "metadata": {},
       "output_type": "pyout",
       "prompt_number": 46,
       "text": [
        "[1, 1, 2, 3, 5, 8, 13, 21, 34, 55]"
       ]
      }
     ],
     "prompt_number": 46
    },
    {
     "cell_type": "markdown",
     "metadata": {},
     "source": [
      "### Without Using Recursion"
     ]
    },
    {
     "cell_type": "code",
     "collapsed": false,
     "input": [
      "def fibonacci_2(n):\n",
      "    if n == 0:\n",
      "        return 0\n",
      "    elif n == 1:\n",
      "        return 1\n",
      "    else:\n",
      "        temp = [0,1]\n",
      "        for i in range(2,n+1):\n",
      "            temp.append(temp[i-1] + temp[i-2])\n",
      "        return temp[n]\n",
      "\n",
      "def fib_n_elements_2(n):\n",
      "    elements = []\n",
      "    for num in range(1,n+1):\n",
      "        elements.append(fibonacci_2(num))\n",
      "\n",
      "    return elements"
     ],
     "language": "python",
     "metadata": {},
     "outputs": [],
     "prompt_number": 49
    },
    {
     "cell_type": "code",
     "collapsed": false,
     "input": [
      "fib_n_elements_2(7)"
     ],
     "language": "python",
     "metadata": {},
     "outputs": [
      {
       "metadata": {},
       "output_type": "pyout",
       "prompt_number": 50,
       "text": [
        "[1, 1, 2, 3, 5, 8, 13]"
       ]
      }
     ],
     "prompt_number": 50
    },
    {
     "cell_type": "code",
     "collapsed": false,
     "input": [],
     "language": "python",
     "metadata": {},
     "outputs": []
    }
   ],
   "metadata": {}
  }
 ]
}