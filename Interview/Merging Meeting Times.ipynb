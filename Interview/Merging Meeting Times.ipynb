{
 "metadata": {
  "name": "",
  "signature": "sha256:b3e2ef9cd14737739cd4da18312b1d0ddd9c3180d330ad742308f0e3a30d13a9"
 },
 "nbformat": 3,
 "nbformat_minor": 0,
 "worksheets": [
  {
   "cells": [
    {
     "cell_type": "markdown",
     "metadata": {},
     "source": [
      "## Your company built an in-house calendar tool called HiCal. You want to add a feature to see the times in a day when everyone is available.\n",
      "\n",
      "To do this, you\u2019ll need to know when any team is having a meeting. In HiCal, a meeting is stored as a tuple of integers (start_time, end_time) . These integers represent the number of 30-minute blocks past 9:00am.\n",
      "\n",
      "For example:\n",
      "\n",
      "(2, 3) # meeting from 10:00 \u2013 10:30 am\n",
      "(6, 9) # meeting from 12:00 \u2013 1:30 pm\n",
      "\n",
      "Write a function condense_meeting_times() that takes an array of meeting time ranges and returns an array of condensed ranges.\n",
      "\n",
      "For example, given:\n",
      "\n",
      "  [(0, 1), (3, 5), (4, 8), (10, 12), (9, 10)]\n",
      "your function would return:\n",
      "\n",
      "  [(0, 1), (3, 8), (9, 12)]\n",
      "  \n",
      "Do not assume the meetings are in order. The meeting times are coming from multiple teams.\n",
      "\n",
      "In this case the possibilities for start_time and end_time are bounded by the number of 30-minute slots in a day. But soon you plan to refactor HiCal to store times as Unix timestamps (which are big numbers). Write something that's efficient even when we can't put a nice upper bound on the numbers representing our time ranges."
     ]
    },
    {
     "cell_type": "code",
     "collapsed": false,
     "input": [
      "def condense_meeting_times(meeting_times):\n",
      "    # Sort the meetings by starting time\n",
      "    sorted_meeting_times = sorted(meeting_times)\n",
      "    \n",
      "    complete = False\n",
      "    i = 0\n",
      "    \n",
      "    while not complete:\n",
      "        \n",
      "        cur_starting_time = sorted_meeting_times[i][0]\n",
      "        cur_ending_time = sorted_meeting_times[i][1]\n",
      "        \n",
      "        try:\n",
      "            next_starting_time = sorted_meeting_times[i+1][0]\n",
      "            next_ending_time = sorted_meeting_times[i+1][1]\n",
      "            \n",
      "            if next_starting_time <= cur_ending_time:\n",
      "                sorted_meeting_times.pop(i+1)\n",
      "                sorted_meeting_times[i] = (cur_starting_time, max(cur_ending_time, next_ending_time))\n",
      "            else:\n",
      "                i += 1\n",
      "\n",
      "        except IndexError as ie:\n",
      "            print sorted_meeting_times\n",
      "            complete = True\n"
     ],
     "language": "python",
     "metadata": {},
     "outputs": [],
     "prompt_number": 35
    },
    {
     "cell_type": "code",
     "collapsed": false,
     "input": [
      "# Should return [(0, 1), (3, 8), (9, 12)]\n",
      "meeting_times = [(0, 1), (3, 5), (4, 8), (10, 12), (9, 10)]\n",
      "condense_meeting_times(meeting_times)"
     ],
     "language": "python",
     "metadata": {},
     "outputs": [
      {
       "output_type": "stream",
       "stream": "stdout",
       "text": [
        "[(0, 1), (3, 8), (9, 12)]\n"
       ]
      }
     ],
     "prompt_number": 37
    },
    {
     "cell_type": "code",
     "collapsed": false,
     "input": [
      "# Should Return [(0, 1), (2, 12)]\n",
      "meeting_times = [(0, 1), (3, 5), (4, 8), (10, 12), (9, 10), (2, 11)]\n",
      "condense_meeting_times(meeting_times)"
     ],
     "language": "python",
     "metadata": {},
     "outputs": [
      {
       "output_type": "stream",
       "stream": "stdout",
       "text": [
        "[(0, 1), (2, 12)]\n"
       ]
      }
     ],
     "prompt_number": 36
    },
    {
     "cell_type": "code",
     "collapsed": false,
     "input": [
      "# should return [(1, 3)]\n",
      "meeting_times = [(1, 2), (2, 3)]\n",
      "condense_meeting_times(meeting_times)"
     ],
     "language": "python",
     "metadata": {},
     "outputs": [
      {
       "output_type": "stream",
       "stream": "stdout",
       "text": [
        "[(1, 3)]\n"
       ]
      }
     ],
     "prompt_number": 39
    },
    {
     "cell_type": "code",
     "collapsed": false,
     "input": [
      "# should return [(1, 5)]\n",
      "meeting_times = [(1, 5), (2, 3)]\n",
      "condense_meeting_times(meeting_times)"
     ],
     "language": "python",
     "metadata": {},
     "outputs": [
      {
       "output_type": "stream",
       "stream": "stdout",
       "text": [
        "[(1, 5)]\n"
       ]
      }
     ],
     "prompt_number": 41
    },
    {
     "cell_type": "code",
     "collapsed": false,
     "input": [
      "# should return [(1, 10)]\n",
      "meeting_times = [(1, 10), (2, 6), (3, 5), (7,9)]\n",
      "condense_meeting_times(meeting_times)"
     ],
     "language": "python",
     "metadata": {},
     "outputs": [
      {
       "output_type": "stream",
       "stream": "stdout",
       "text": [
        "[(1, 10)]\n"
       ]
      }
     ],
     "prompt_number": 43
    },
    {
     "cell_type": "code",
     "collapsed": false,
     "input": [
      "# should return [(1, 9)]\n",
      "meeting_times = [(1, 2), (2, 7), (3, 5), (7,9)]\n",
      "condense_meeting_times(meeting_times)"
     ],
     "language": "python",
     "metadata": {},
     "outputs": [
      {
       "output_type": "stream",
       "stream": "stdout",
       "text": [
        "[(1, 9)]\n"
       ]
      }
     ],
     "prompt_number": 46
    },
    {
     "cell_type": "code",
     "collapsed": false,
     "input": [],
     "language": "python",
     "metadata": {},
     "outputs": []
    }
   ],
   "metadata": {}
  }
 ]
}