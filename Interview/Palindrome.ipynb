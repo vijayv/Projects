{
 "metadata": {
  "name": "",
  "signature": "sha256:798b5e7e091f78271b74c94f6883203ebb64eae18f111e622bf5a97e7d1983bd"
 },
 "nbformat": 3,
 "nbformat_minor": 0,
 "worksheets": [
  {
   "cells": [
    {
     "cell_type": "code",
     "collapsed": false,
     "input": [
      "from string import lower, strip, ascii_lowercase"
     ],
     "language": "python",
     "metadata": {},
     "outputs": [],
     "prompt_number": 27
    },
    {
     "cell_type": "code",
     "collapsed": false,
     "input": [
      "word_list = [\"Bob\", \"Crawl\", \"lol\", \"rob\", \"dead\", \"deed\", \"121\", \"321\", \"   \", \"1,1\", \"!,!\"]"
     ],
     "language": "python",
     "metadata": {},
     "outputs": [],
     "prompt_number": 28
    },
    {
     "cell_type": "code",
     "collapsed": false,
     "input": [
      "def is_palindrome(word):\n",
      "    test_word = lower(strip(word))\n",
      "    for letter in test_word:\n",
      "        if letter not in ascii_lowercase: return False\n",
      "    return test_word == test_word[::-1]\n",
      "\n",
      "for word in word_list:\n",
      "    if is_palindrome(word):\n",
      "        print word\n",
      "    "
     ],
     "language": "python",
     "metadata": {},
     "outputs": [
      {
       "output_type": "stream",
       "stream": "stdout",
       "text": [
        "Bob\n",
        "lol\n",
        "deed\n",
        "   \n"
       ]
      }
     ],
     "prompt_number": 34
    },
    {
     "cell_type": "code",
     "collapsed": false,
     "input": [],
     "language": "python",
     "metadata": {},
     "outputs": []
    }
   ],
   "metadata": {}
  }
 ]
}